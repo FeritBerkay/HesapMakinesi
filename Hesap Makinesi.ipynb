{
 "cells": [
  {
   "cell_type": "code",
   "execution_count": null,
   "metadata": {},
   "outputs": [],
   "source": [
    "number1=int(input(\"Write a number1: \"))\n",
    "choose=input(\" '+'' '/' '*' ':' \")\n",
    "number2=int(input(\"Write a number2: \"))\n",
    "yanlıs=(\"Girilen operator yanlıstır.\")\n",
    "def topla(a,b):\n",
    "    return a+b\n",
    "def cıkart(a,b):\n",
    "    return a-b\n",
    "def carp(a,b):\n",
    "    return a*b\n",
    "def bol(a,b):\n",
    "    return a/b\n",
    "def hesaplama(number1,number2,choose):\n",
    "    if(choose=='+'):\n",
    "        return topla(number1,number2)\n",
    "    elif(choose=='-'):\n",
    "        return cıkart(number1,number2)\n",
    "    elif(choose=='*'):\n",
    "        return carp(number1,number2)\n",
    "    elif(choose=='/'):\n",
    "        return bol(number1,number2)\n",
    "    else:\n",
    "         print(yanlıs)\n",
    "print(hesaplama(number1,number2,choose))"
   ]
  }
 ],
 "metadata": {
  "kernelspec": {
   "display_name": "Python 3",
   "language": "python",
   "name": "python3"
  },
  "language_info": {
   "codemirror_mode": {
    "name": "ipython",
    "version": 3
   },
   "file_extension": ".py",
   "mimetype": "text/x-python",
   "name": "python",
   "nbconvert_exporter": "python",
   "pygments_lexer": "ipython3",
   "version": "3.8.5"
  }
 },
 "nbformat": 4,
 "nbformat_minor": 4
}
